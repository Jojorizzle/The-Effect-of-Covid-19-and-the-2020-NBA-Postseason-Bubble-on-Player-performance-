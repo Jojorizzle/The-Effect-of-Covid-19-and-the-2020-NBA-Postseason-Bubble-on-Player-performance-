{
 "cells": [
  {
   "cell_type": "code",
   "execution_count": 15,
   "id": "bd2e3aad",
   "metadata": {},
   "outputs": [],
   "source": [
    "import scipy.stats as stats\n",
    "from scipy import stats\n",
    "from scipy.stats import ttest_ind\n",
    "import pandas as pd\n",
    "import numpy as np"
   ]
  },
  {
   "cell_type": "code",
   "execution_count": 2,
   "id": "3272f587",
   "metadata": {},
   "outputs": [],
   "source": [
    "df = pd.read_excel('playerStats.xlsx')"
   ]
  },
  {
   "cell_type": "code",
   "execution_count": 7,
   "id": "145878de",
   "metadata": {},
   "outputs": [],
   "source": [
    "df1=pd.read_excel('bubbleStats.xlsx')"
   ]
  },
  {
   "cell_type": "code",
   "execution_count": 12,
   "id": "4145c88d",
   "metadata": {},
   "outputs": [
    {
     "name": "stdout",
     "output_type": "stream",
     "text": [
      "7.958362345600011 40.10424429065743\n",
      "0.0017541778360000003 0.007905122645136485\n"
     ]
    }
   ],
   "source": [
    "#Finding Variance\n",
    "print(np.var(df['PER']), np.var(df1['PER']))\n",
    "print(np.var(df['TS%']), np.var(df1['TS%']))"
   ]
  },
  {
   "cell_type": "code",
   "execution_count": 22,
   "id": "6a8bd0dc",
   "metadata": {},
   "outputs": [
    {
     "data": {
      "text/plain": [
       "Ttest_indResult(statistic=15.942757599766662, pvalue=5.797130027349421e-35)"
      ]
     },
     "execution_count": 22,
     "metadata": {},
     "output_type": "execute_result"
    }
   ],
   "source": [
    "#Performing Two-Sample T-Test for Player Effeciency Rating\n",
    "\n",
    "ttest_ind(df['PER'], df1['PER'], equal_var=False)\n"
   ]
  },
  {
   "cell_type": "code",
   "execution_count": 23,
   "id": "6e6d51ba",
   "metadata": {},
   "outputs": [
    {
     "data": {
      "text/plain": [
       "Ttest_indResult(statistic=2.7711158485485354, pvalue=0.006238485654786998)"
      ]
     },
     "execution_count": 23,
     "metadata": {},
     "output_type": "execute_result"
    }
   ],
   "source": [
    "#Performing Two-Sample T-Test for True shooting percentage\n",
    "ttest_ind(df['TS%'], df1['TS%'], equal_var=False)\n"
   ]
  },
  {
   "cell_type": "code",
   "execution_count": null,
   "id": "6dc4d789",
   "metadata": {},
   "outputs": [],
   "source": []
  },
  {
   "cell_type": "code",
   "execution_count": 6,
   "id": "aa12253a",
   "metadata": {},
   "outputs": [
    {
     "name": "stdout",
     "output_type": "stream",
     "text": [
      "0.5590392156862746\n",
      "0.5793579999999998\n",
      "21.848879999999983\n",
      "13.537058823529403\n"
     ]
    }
   ],
   "source": [
    "#Means\n",
    "print(np.mean(df1['TS%']))\n",
    "print(np.mean(df['TS%']))\n",
    "print(np.mean(df['PER']))\n",
    "print(np.mean(df1['PER']))"
   ]
  },
  {
   "cell_type": "code",
   "execution_count": null,
   "id": "3edbdce4",
   "metadata": {},
   "outputs": [],
   "source": []
  },
  {
   "cell_type": "code",
   "execution_count": null,
   "id": "a228aa78",
   "metadata": {},
   "outputs": [],
   "source": []
  },
  {
   "cell_type": "code",
   "execution_count": null,
   "id": "a2545b4b",
   "metadata": {},
   "outputs": [],
   "source": []
  }
 ],
 "metadata": {
  "kernelspec": {
   "display_name": "Python 3 (ipykernel)",
   "language": "python",
   "name": "python3"
  },
  "language_info": {
   "codemirror_mode": {
    "name": "ipython",
    "version": 3
   },
   "file_extension": ".py",
   "mimetype": "text/x-python",
   "name": "python",
   "nbconvert_exporter": "python",
   "pygments_lexer": "ipython3",
   "version": "3.9.12"
  }
 },
 "nbformat": 4,
 "nbformat_minor": 5
}
